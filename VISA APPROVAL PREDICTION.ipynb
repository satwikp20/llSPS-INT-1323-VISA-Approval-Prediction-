{
 "cells": [
  {
   "cell_type": "markdown",
   "metadata": {},
   "source": [
    "# Importing the Libraries"
   ]
  },
  {
   "cell_type": "code",
   "execution_count": 1,
   "metadata": {},
   "outputs": [],
   "source": [
    "import numpy as np\n",
    "import pandas as pd"
   ]
  },
  {
   "cell_type": "markdown",
   "metadata": {},
   "source": [
    "# Importing the Dataset"
   ]
  },
  {
   "cell_type": "code",
   "execution_count": 2,
   "metadata": {},
   "outputs": [
    {
     "name": "stderr",
     "output_type": "stream",
     "text": [
      "C:\\ProgramData\\Anaconda3\\lib\\site-packages\\IPython\\core\\interactiveshell.py:3063: DtypeWarning: Columns (25) have mixed types.Specify dtype option on import or set low_memory=False.\n",
      "  interactivity=interactivity, compiler=compiler, result=result)\n"
     ]
    }
   ],
   "source": [
    "dataset=pd.read_csv(r'1. Master H1b Dataset.csv',encoding='latin1')"
   ]
  },
  {
   "cell_type": "code",
   "execution_count": 3,
   "metadata": {},
   "outputs": [
    {
     "data": {
      "text/html": [
       "<div>\n",
       "<style scoped>\n",
       "    .dataframe tbody tr th:only-of-type {\n",
       "        vertical-align: middle;\n",
       "    }\n",
       "\n",
       "    .dataframe tbody tr th {\n",
       "        vertical-align: top;\n",
       "    }\n",
       "\n",
       "    .dataframe thead th {\n",
       "        text-align: right;\n",
       "    }\n",
       "</style>\n",
       "<table border=\"1\" class=\"dataframe\">\n",
       "  <thead>\n",
       "    <tr style=\"text-align: right;\">\n",
       "      <th></th>\n",
       "      <th>CASE_SUBMITTED_DAY</th>\n",
       "      <th>CASE_SUBMITTED_MONTH</th>\n",
       "      <th>CASE_SUBMITTED_YEAR</th>\n",
       "      <th>DECISION_DAY</th>\n",
       "      <th>DECISION_MONTH</th>\n",
       "      <th>DECISION_YEAR</th>\n",
       "      <th>VISA_CLASS</th>\n",
       "      <th>EMPLOYER_NAME</th>\n",
       "      <th>EMPLOYER_STATE</th>\n",
       "      <th>EMPLOYER_COUNTRY</th>\n",
       "      <th>...</th>\n",
       "      <th>PW_SOURCE_YEAR</th>\n",
       "      <th>PW_SOURCE_OTHER</th>\n",
       "      <th>WAGE_RATE_OF_PAY_FROM</th>\n",
       "      <th>WAGE_RATE_OF_PAY_TO</th>\n",
       "      <th>WAGE_UNIT_OF_PAY</th>\n",
       "      <th>H-1B_DEPENDENT</th>\n",
       "      <th>WILLFUL_VIOLATOR</th>\n",
       "      <th>WORKSITE_STATE</th>\n",
       "      <th>WORKSITE_POSTAL_CODE</th>\n",
       "      <th>CASE_STATUS</th>\n",
       "    </tr>\n",
       "  </thead>\n",
       "  <tbody>\n",
       "    <tr>\n",
       "      <th>0</th>\n",
       "      <td>24</td>\n",
       "      <td>2</td>\n",
       "      <td>2016</td>\n",
       "      <td>1</td>\n",
       "      <td>10</td>\n",
       "      <td>2016</td>\n",
       "      <td>H1B</td>\n",
       "      <td>DISCOVER PRODUCTS INC</td>\n",
       "      <td>IL</td>\n",
       "      <td>UNITED STATES OF AMERICA</td>\n",
       "      <td>...</td>\n",
       "      <td>2015.0</td>\n",
       "      <td>OFLC ONLINE DATA CENTER</td>\n",
       "      <td>65811.0</td>\n",
       "      <td>67320.0</td>\n",
       "      <td>Year</td>\n",
       "      <td>N</td>\n",
       "      <td>N</td>\n",
       "      <td>IL</td>\n",
       "      <td>60015</td>\n",
       "      <td>CERTIFIEDWITHDRAWN</td>\n",
       "    </tr>\n",
       "    <tr>\n",
       "      <th>1</th>\n",
       "      <td>4</td>\n",
       "      <td>3</td>\n",
       "      <td>2016</td>\n",
       "      <td>1</td>\n",
       "      <td>10</td>\n",
       "      <td>2016</td>\n",
       "      <td>H1B</td>\n",
       "      <td>DFS SERVICES LLC</td>\n",
       "      <td>IL</td>\n",
       "      <td>UNITED STATES OF AMERICA</td>\n",
       "      <td>...</td>\n",
       "      <td>2015.0</td>\n",
       "      <td>WILLIS TOWERS WATSON SURVEY</td>\n",
       "      <td>53000.0</td>\n",
       "      <td>57200.0</td>\n",
       "      <td>Year</td>\n",
       "      <td>N</td>\n",
       "      <td>N</td>\n",
       "      <td>IL</td>\n",
       "      <td>60015</td>\n",
       "      <td>CERTIFIEDWITHDRAWN</td>\n",
       "    </tr>\n",
       "    <tr>\n",
       "      <th>2</th>\n",
       "      <td>10</td>\n",
       "      <td>3</td>\n",
       "      <td>2016</td>\n",
       "      <td>1</td>\n",
       "      <td>10</td>\n",
       "      <td>2016</td>\n",
       "      <td>H1B</td>\n",
       "      <td>EASTBANC TECHNOLOGIES LLC</td>\n",
       "      <td>DC</td>\n",
       "      <td>UNITED STATES OF AMERICA</td>\n",
       "      <td>...</td>\n",
       "      <td>2015.0</td>\n",
       "      <td>OFLC ONLINE DATA CENTER</td>\n",
       "      <td>77000.0</td>\n",
       "      <td>0.0</td>\n",
       "      <td>Year</td>\n",
       "      <td>Y</td>\n",
       "      <td>N</td>\n",
       "      <td>DC</td>\n",
       "      <td>20007</td>\n",
       "      <td>CERTIFIEDWITHDRAWN</td>\n",
       "    </tr>\n",
       "    <tr>\n",
       "      <th>3</th>\n",
       "      <td>28</td>\n",
       "      <td>9</td>\n",
       "      <td>2016</td>\n",
       "      <td>1</td>\n",
       "      <td>10</td>\n",
       "      <td>2016</td>\n",
       "      <td>H1B</td>\n",
       "      <td>INFO SERVICES LLC</td>\n",
       "      <td>MI</td>\n",
       "      <td>UNITED STATES OF AMERICA</td>\n",
       "      <td>...</td>\n",
       "      <td>2016.0</td>\n",
       "      <td>OFLC ONLINE DATA CENTER</td>\n",
       "      <td>102000.0</td>\n",
       "      <td>0.0</td>\n",
       "      <td>Year</td>\n",
       "      <td>Y</td>\n",
       "      <td>N</td>\n",
       "      <td>NJ</td>\n",
       "      <td>7302</td>\n",
       "      <td>WITHDRAWN</td>\n",
       "    </tr>\n",
       "    <tr>\n",
       "      <th>4</th>\n",
       "      <td>22</td>\n",
       "      <td>2</td>\n",
       "      <td>2015</td>\n",
       "      <td>2</td>\n",
       "      <td>10</td>\n",
       "      <td>2016</td>\n",
       "      <td>H1B</td>\n",
       "      <td>BBandT CORPORATION</td>\n",
       "      <td>NC</td>\n",
       "      <td>UNITED STATES OF AMERICA</td>\n",
       "      <td>...</td>\n",
       "      <td>2015.0</td>\n",
       "      <td>OFLC ONLINE DATA CENTER</td>\n",
       "      <td>132500.0</td>\n",
       "      <td>0.0</td>\n",
       "      <td>Year</td>\n",
       "      <td>N</td>\n",
       "      <td>N</td>\n",
       "      <td>NY</td>\n",
       "      <td>10036</td>\n",
       "      <td>CERTIFIEDWITHDRAWN</td>\n",
       "    </tr>\n",
       "    <tr>\n",
       "      <th>...</th>\n",
       "      <td>...</td>\n",
       "      <td>...</td>\n",
       "      <td>...</td>\n",
       "      <td>...</td>\n",
       "      <td>...</td>\n",
       "      <td>...</td>\n",
       "      <td>...</td>\n",
       "      <td>...</td>\n",
       "      <td>...</td>\n",
       "      <td>...</td>\n",
       "      <td>...</td>\n",
       "      <td>...</td>\n",
       "      <td>...</td>\n",
       "      <td>...</td>\n",
       "      <td>...</td>\n",
       "      <td>...</td>\n",
       "      <td>...</td>\n",
       "      <td>...</td>\n",
       "      <td>...</td>\n",
       "      <td>...</td>\n",
       "      <td>...</td>\n",
       "    </tr>\n",
       "    <tr>\n",
       "      <th>528129</th>\n",
       "      <td>30</td>\n",
       "      <td>6</td>\n",
       "      <td>2017</td>\n",
       "      <td>30</td>\n",
       "      <td>6</td>\n",
       "      <td>2017</td>\n",
       "      <td>H1B</td>\n",
       "      <td>SAN JOSE UNIFIED SCHOOL DISTRICT</td>\n",
       "      <td>CA</td>\n",
       "      <td>UNITED STATES OF AMERICA</td>\n",
       "      <td>...</td>\n",
       "      <td>2016.0</td>\n",
       "      <td>NONE</td>\n",
       "      <td>54958.0</td>\n",
       "      <td>92555.0</td>\n",
       "      <td>Year</td>\n",
       "      <td>N</td>\n",
       "      <td>N</td>\n",
       "      <td>CA</td>\n",
       "      <td>95126</td>\n",
       "      <td>WITHDRAWN</td>\n",
       "    </tr>\n",
       "    <tr>\n",
       "      <th>528130</th>\n",
       "      <td>30</td>\n",
       "      <td>6</td>\n",
       "      <td>2017</td>\n",
       "      <td>30</td>\n",
       "      <td>6</td>\n",
       "      <td>2017</td>\n",
       "      <td>H1B</td>\n",
       "      <td>SOFTPATH SYSTEM LLC</td>\n",
       "      <td>GA</td>\n",
       "      <td>UNITED STATES OF AMERICA</td>\n",
       "      <td>...</td>\n",
       "      <td>2016.0</td>\n",
       "      <td>OFLC ONLINE DATA CENTER</td>\n",
       "      <td>90813.0</td>\n",
       "      <td>0.0</td>\n",
       "      <td>Year</td>\n",
       "      <td>Y</td>\n",
       "      <td>N</td>\n",
       "      <td>NY</td>\n",
       "      <td>10281</td>\n",
       "      <td>WITHDRAWN</td>\n",
       "    </tr>\n",
       "    <tr>\n",
       "      <th>528131</th>\n",
       "      <td>30</td>\n",
       "      <td>6</td>\n",
       "      <td>2017</td>\n",
       "      <td>30</td>\n",
       "      <td>6</td>\n",
       "      <td>2017</td>\n",
       "      <td>H1B</td>\n",
       "      <td>TECH MAHINDRA AMERICAS INC</td>\n",
       "      <td>TX</td>\n",
       "      <td>UNITED STATES OF AMERICA</td>\n",
       "      <td>...</td>\n",
       "      <td>2016.0</td>\n",
       "      <td>OFLC ONLINE DATA CENTER</td>\n",
       "      <td>81515.0</td>\n",
       "      <td>0.0</td>\n",
       "      <td>Year</td>\n",
       "      <td>Y</td>\n",
       "      <td>N</td>\n",
       "      <td>TX</td>\n",
       "      <td>75082</td>\n",
       "      <td>WITHDRAWN</td>\n",
       "    </tr>\n",
       "    <tr>\n",
       "      <th>528132</th>\n",
       "      <td>30</td>\n",
       "      <td>6</td>\n",
       "      <td>2017</td>\n",
       "      <td>30</td>\n",
       "      <td>6</td>\n",
       "      <td>2017</td>\n",
       "      <td>H1B</td>\n",
       "      <td>UNIVERSITY PHYSICIAN ASSOCIATES</td>\n",
       "      <td>MO</td>\n",
       "      <td>UNITED STATES OF AMERICA</td>\n",
       "      <td>...</td>\n",
       "      <td>2016.0</td>\n",
       "      <td>OFLC ONLINE DATA CENTER</td>\n",
       "      <td>121750.0</td>\n",
       "      <td>155000.0</td>\n",
       "      <td>Year</td>\n",
       "      <td>N</td>\n",
       "      <td>N</td>\n",
       "      <td>MO</td>\n",
       "      <td>64139</td>\n",
       "      <td>WITHDRAWN</td>\n",
       "    </tr>\n",
       "    <tr>\n",
       "      <th>528133</th>\n",
       "      <td>30</td>\n",
       "      <td>6</td>\n",
       "      <td>2017</td>\n",
       "      <td>30</td>\n",
       "      <td>6</td>\n",
       "      <td>2017</td>\n",
       "      <td>E3 Australian</td>\n",
       "      <td>WEBER STATE UNIVERSITY</td>\n",
       "      <td>UT</td>\n",
       "      <td>UNITED STATES OF AMERICA</td>\n",
       "      <td>...</td>\n",
       "      <td>2016.0</td>\n",
       "      <td>OFLC ONLINE DATA CENTER</td>\n",
       "      <td>58000.0</td>\n",
       "      <td>0.0</td>\n",
       "      <td>Year</td>\n",
       "      <td>NaN</td>\n",
       "      <td>NaN</td>\n",
       "      <td>UT</td>\n",
       "      <td>84408</td>\n",
       "      <td>WITHDRAWN</td>\n",
       "    </tr>\n",
       "  </tbody>\n",
       "</table>\n",
       "<p>528134 rows × 27 columns</p>\n",
       "</div>"
      ],
      "text/plain": [
       "        CASE_SUBMITTED_DAY  CASE_SUBMITTED_MONTH  CASE_SUBMITTED_YEAR  \\\n",
       "0                       24                     2                 2016   \n",
       "1                        4                     3                 2016   \n",
       "2                       10                     3                 2016   \n",
       "3                       28                     9                 2016   \n",
       "4                       22                     2                 2015   \n",
       "...                    ...                   ...                  ...   \n",
       "528129                  30                     6                 2017   \n",
       "528130                  30                     6                 2017   \n",
       "528131                  30                     6                 2017   \n",
       "528132                  30                     6                 2017   \n",
       "528133                  30                     6                 2017   \n",
       "\n",
       "        DECISION_DAY  DECISION_MONTH  DECISION_YEAR     VISA_CLASS  \\\n",
       "0                  1              10           2016            H1B   \n",
       "1                  1              10           2016            H1B   \n",
       "2                  1              10           2016            H1B   \n",
       "3                  1              10           2016            H1B   \n",
       "4                  2              10           2016            H1B   \n",
       "...              ...             ...            ...            ...   \n",
       "528129            30               6           2017            H1B   \n",
       "528130            30               6           2017            H1B   \n",
       "528131            30               6           2017            H1B   \n",
       "528132            30               6           2017            H1B   \n",
       "528133            30               6           2017  E3 Australian   \n",
       "\n",
       "                           EMPLOYER_NAME EMPLOYER_STATE  \\\n",
       "0                  DISCOVER PRODUCTS INC             IL   \n",
       "1                       DFS SERVICES LLC             IL   \n",
       "2              EASTBANC TECHNOLOGIES LLC             DC   \n",
       "3                      INFO SERVICES LLC             MI   \n",
       "4                     BBandT CORPORATION             NC   \n",
       "...                                  ...            ...   \n",
       "528129  SAN JOSE UNIFIED SCHOOL DISTRICT             CA   \n",
       "528130               SOFTPATH SYSTEM LLC             GA   \n",
       "528131        TECH MAHINDRA AMERICAS INC             TX   \n",
       "528132   UNIVERSITY PHYSICIAN ASSOCIATES             MO   \n",
       "528133            WEBER STATE UNIVERSITY             UT   \n",
       "\n",
       "                EMPLOYER_COUNTRY  ... PW_SOURCE_YEAR  \\\n",
       "0       UNITED STATES OF AMERICA  ...         2015.0   \n",
       "1       UNITED STATES OF AMERICA  ...         2015.0   \n",
       "2       UNITED STATES OF AMERICA  ...         2015.0   \n",
       "3       UNITED STATES OF AMERICA  ...         2016.0   \n",
       "4       UNITED STATES OF AMERICA  ...         2015.0   \n",
       "...                          ...  ...            ...   \n",
       "528129  UNITED STATES OF AMERICA  ...         2016.0   \n",
       "528130  UNITED STATES OF AMERICA  ...         2016.0   \n",
       "528131  UNITED STATES OF AMERICA  ...         2016.0   \n",
       "528132  UNITED STATES OF AMERICA  ...         2016.0   \n",
       "528133  UNITED STATES OF AMERICA  ...         2016.0   \n",
       "\n",
       "                    PW_SOURCE_OTHER  WAGE_RATE_OF_PAY_FROM  \\\n",
       "0           OFLC ONLINE DATA CENTER                65811.0   \n",
       "1       WILLIS TOWERS WATSON SURVEY                53000.0   \n",
       "2           OFLC ONLINE DATA CENTER                77000.0   \n",
       "3           OFLC ONLINE DATA CENTER               102000.0   \n",
       "4           OFLC ONLINE DATA CENTER               132500.0   \n",
       "...                             ...                    ...   \n",
       "528129                         NONE                54958.0   \n",
       "528130      OFLC ONLINE DATA CENTER                90813.0   \n",
       "528131      OFLC ONLINE DATA CENTER                81515.0   \n",
       "528132      OFLC ONLINE DATA CENTER               121750.0   \n",
       "528133      OFLC ONLINE DATA CENTER                58000.0   \n",
       "\n",
       "       WAGE_RATE_OF_PAY_TO  WAGE_UNIT_OF_PAY H-1B_DEPENDENT WILLFUL_VIOLATOR  \\\n",
       "0                  67320.0              Year              N                N   \n",
       "1                  57200.0              Year              N                N   \n",
       "2                      0.0              Year              Y                N   \n",
       "3                      0.0              Year              Y                N   \n",
       "4                      0.0              Year              N                N   \n",
       "...                    ...               ...            ...              ...   \n",
       "528129             92555.0              Year              N                N   \n",
       "528130                 0.0              Year              Y                N   \n",
       "528131                 0.0              Year              Y                N   \n",
       "528132            155000.0              Year              N                N   \n",
       "528133                 0.0              Year            NaN              NaN   \n",
       "\n",
       "        WORKSITE_STATE WORKSITE_POSTAL_CODE         CASE_STATUS  \n",
       "0                   IL                60015  CERTIFIEDWITHDRAWN  \n",
       "1                   IL                60015  CERTIFIEDWITHDRAWN  \n",
       "2                   DC                20007  CERTIFIEDWITHDRAWN  \n",
       "3                   NJ                 7302           WITHDRAWN  \n",
       "4                   NY                10036  CERTIFIEDWITHDRAWN  \n",
       "...                ...                  ...                 ...  \n",
       "528129              CA                95126           WITHDRAWN  \n",
       "528130              NY                10281           WITHDRAWN  \n",
       "528131              TX                75082           WITHDRAWN  \n",
       "528132              MO                64139           WITHDRAWN  \n",
       "528133              UT                84408           WITHDRAWN  \n",
       "\n",
       "[528134 rows x 27 columns]"
      ]
     },
     "execution_count": 3,
     "metadata": {},
     "output_type": "execute_result"
    }
   ],
   "source": [
    "dataset"
   ]
  },
  {
   "cell_type": "code",
   "execution_count": 4,
   "metadata": {},
   "outputs": [
    {
     "data": {
      "text/plain": [
       "array(['IL', 'DC', 'MI', 'NC', 'GA', 'NJ', 'IN', 'WA', 'TX', 'CA', 'OR',\n",
       "       'AR', 'NY', 'OK', 'RI', 'MA', 'WI', 'KY', 'IA', 'VA', 'FL', 'MD',\n",
       "       'DE', 'AZ', 'CT', 'LA', 'CO', 'MO', 'PA', 'MN', 'OH', 'UT', 'TN',\n",
       "       'KS', 'MS', 'SC', 'ND', 'VT', 'AL', 'ID', 'PR', 'GU', 'NH', 'NE',\n",
       "       'WV', 'NM', 'NV', 'ME', 'HI', 'MT', 'MP', 'SD', 'AK', 'WY', nan,\n",
       "       'VI', 'AS'], dtype=object)"
      ]
     },
     "execution_count": 4,
     "metadata": {},
     "output_type": "execute_result"
    }
   ],
   "source": [
    "dataset['EMPLOYER_STATE'].unique()"
   ]
  },
  {
   "cell_type": "markdown",
   "metadata": {},
   "source": [
    "# Data Vizualizing"
   ]
  },
  {
   "cell_type": "code",
   "execution_count": 5,
   "metadata": {},
   "outputs": [
    {
     "name": "stdout",
     "output_type": "stream",
     "text": [
      "<class 'pandas.core.frame.DataFrame'>\n",
      "RangeIndex: 528134 entries, 0 to 528133\n",
      "Data columns (total 27 columns):\n",
      " #   Column                 Non-Null Count   Dtype  \n",
      "---  ------                 --------------   -----  \n",
      " 0   CASE_SUBMITTED_DAY     528134 non-null  int64  \n",
      " 1   CASE_SUBMITTED_MONTH   528134 non-null  int64  \n",
      " 2   CASE_SUBMITTED_YEAR    528134 non-null  int64  \n",
      " 3   DECISION_DAY           528134 non-null  int64  \n",
      " 4   DECISION_MONTH         528134 non-null  int64  \n",
      " 5   DECISION_YEAR          528134 non-null  int64  \n",
      " 6   VISA_CLASS             528134 non-null  object \n",
      " 7   EMPLOYER_NAME          528095 non-null  object \n",
      " 8   EMPLOYER_STATE         528124 non-null  object \n",
      " 9   EMPLOYER_COUNTRY       528134 non-null  object \n",
      " 10  SOC_NAME               528134 non-null  object \n",
      " 11  NAICS_CODE             528132 non-null  float64\n",
      " 12  TOTAL_WORKERS          528134 non-null  int64  \n",
      " 13  FULL_TIME_POSITION     528131 non-null  object \n",
      " 14  PREVAILING_WAGE        528134 non-null  float64\n",
      " 15  PW_UNIT_OF_PAY         528101 non-null  object \n",
      " 16  PW_SOURCE              528101 non-null  object \n",
      " 17  PW_SOURCE_YEAR         528103 non-null  float64\n",
      " 18  PW_SOURCE_OTHER        528134 non-null  object \n",
      " 19  WAGE_RATE_OF_PAY_FROM  528134 non-null  float64\n",
      " 20  WAGE_RATE_OF_PAY_TO    528134 non-null  float64\n",
      " 21  WAGE_UNIT_OF_PAY       528130 non-null  object \n",
      " 22  H-1B_DEPENDENT         517834 non-null  object \n",
      " 23  WILLFUL_VIOLATOR       517833 non-null  object \n",
      " 24  WORKSITE_STATE         528134 non-null  object \n",
      " 25  WORKSITE_POSTAL_CODE   528134 non-null  object \n",
      " 26  CASE_STATUS            528134 non-null  object \n",
      "dtypes: float64(5), int64(7), object(15)\n",
      "memory usage: 108.8+ MB\n"
     ]
    }
   ],
   "source": [
    "dataset.info()"
   ]
  },
  {
   "cell_type": "code",
   "execution_count": 6,
   "metadata": {},
   "outputs": [
    {
     "data": {
      "text/html": [
       "<div>\n",
       "<style scoped>\n",
       "    .dataframe tbody tr th:only-of-type {\n",
       "        vertical-align: middle;\n",
       "    }\n",
       "\n",
       "    .dataframe tbody tr th {\n",
       "        vertical-align: top;\n",
       "    }\n",
       "\n",
       "    .dataframe thead th {\n",
       "        text-align: right;\n",
       "    }\n",
       "</style>\n",
       "<table border=\"1\" class=\"dataframe\">\n",
       "  <thead>\n",
       "    <tr style=\"text-align: right;\">\n",
       "      <th></th>\n",
       "      <th>CASE_SUBMITTED_DAY</th>\n",
       "      <th>CASE_SUBMITTED_MONTH</th>\n",
       "      <th>CASE_SUBMITTED_YEAR</th>\n",
       "      <th>DECISION_DAY</th>\n",
       "      <th>DECISION_MONTH</th>\n",
       "      <th>DECISION_YEAR</th>\n",
       "      <th>NAICS_CODE</th>\n",
       "      <th>TOTAL_WORKERS</th>\n",
       "      <th>PREVAILING_WAGE</th>\n",
       "      <th>PW_SOURCE_YEAR</th>\n",
       "      <th>WAGE_RATE_OF_PAY_FROM</th>\n",
       "      <th>WAGE_RATE_OF_PAY_TO</th>\n",
       "    </tr>\n",
       "  </thead>\n",
       "  <tbody>\n",
       "    <tr>\n",
       "      <th>count</th>\n",
       "      <td>528134.000000</td>\n",
       "      <td>528134.000000</td>\n",
       "      <td>528134.000000</td>\n",
       "      <td>528134.000000</td>\n",
       "      <td>528134.000000</td>\n",
       "      <td>528134.000000</td>\n",
       "      <td>528132.000000</td>\n",
       "      <td>528134.000000</td>\n",
       "      <td>528134.000000</td>\n",
       "      <td>528103.000000</td>\n",
       "      <td>5.281340e+05</td>\n",
       "      <td>5.281340e+05</td>\n",
       "    </tr>\n",
       "    <tr>\n",
       "      <th>mean</th>\n",
       "      <td>15.246426</td>\n",
       "      <td>4.444859</td>\n",
       "      <td>2016.752854</td>\n",
       "      <td>16.565991</td>\n",
       "      <td>4.552377</td>\n",
       "      <td>2016.825876</td>\n",
       "      <td>443548.680673</td>\n",
       "      <td>1.907171</td>\n",
       "      <td>71674.254471</td>\n",
       "      <td>2016.057258</td>\n",
       "      <td>8.161845e+04</td>\n",
       "      <td>2.408603e+04</td>\n",
       "    </tr>\n",
       "    <tr>\n",
       "      <th>std</th>\n",
       "      <td>8.154979</td>\n",
       "      <td>3.201000</td>\n",
       "      <td>0.524568</td>\n",
       "      <td>8.457420</td>\n",
       "      <td>3.201752</td>\n",
       "      <td>0.379217</td>\n",
       "      <td>197875.907540</td>\n",
       "      <td>4.925016</td>\n",
       "      <td>31996.910281</td>\n",
       "      <td>5.562969</td>\n",
       "      <td>4.246852e+04</td>\n",
       "      <td>5.239735e+04</td>\n",
       "    </tr>\n",
       "    <tr>\n",
       "      <th>min</th>\n",
       "      <td>1.000000</td>\n",
       "      <td>1.000000</td>\n",
       "      <td>2011.000000</td>\n",
       "      <td>1.000000</td>\n",
       "      <td>1.000000</td>\n",
       "      <td>2016.000000</td>\n",
       "      <td>31.000000</td>\n",
       "      <td>0.000000</td>\n",
       "      <td>0.000000</td>\n",
       "      <td>0.000000</td>\n",
       "      <td>0.000000e+00</td>\n",
       "      <td>0.000000e+00</td>\n",
       "    </tr>\n",
       "    <tr>\n",
       "      <th>25%</th>\n",
       "      <td>8.000000</td>\n",
       "      <td>3.000000</td>\n",
       "      <td>2017.000000</td>\n",
       "      <td>9.000000</td>\n",
       "      <td>3.000000</td>\n",
       "      <td>2017.000000</td>\n",
       "      <td>452910.000000</td>\n",
       "      <td>1.000000</td>\n",
       "      <td>55910.000000</td>\n",
       "      <td>2016.000000</td>\n",
       "      <td>6.200000e+04</td>\n",
       "      <td>0.000000e+00</td>\n",
       "    </tr>\n",
       "    <tr>\n",
       "      <th>50%</th>\n",
       "      <td>15.000000</td>\n",
       "      <td>3.000000</td>\n",
       "      <td>2017.000000</td>\n",
       "      <td>17.000000</td>\n",
       "      <td>3.000000</td>\n",
       "      <td>2017.000000</td>\n",
       "      <td>541511.000000</td>\n",
       "      <td>1.000000</td>\n",
       "      <td>68827.000000</td>\n",
       "      <td>2016.000000</td>\n",
       "      <td>7.500000e+04</td>\n",
       "      <td>0.000000e+00</td>\n",
       "    </tr>\n",
       "    <tr>\n",
       "      <th>75%</th>\n",
       "      <td>22.000000</td>\n",
       "      <td>5.000000</td>\n",
       "      <td>2017.000000</td>\n",
       "      <td>23.000000</td>\n",
       "      <td>5.000000</td>\n",
       "      <td>2017.000000</td>\n",
       "      <td>541511.000000</td>\n",
       "      <td>1.000000</td>\n",
       "      <td>87214.000000</td>\n",
       "      <td>2016.000000</td>\n",
       "      <td>9.776000e+04</td>\n",
       "      <td>0.000000e+00</td>\n",
       "    </tr>\n",
       "    <tr>\n",
       "      <th>max</th>\n",
       "      <td>31.000000</td>\n",
       "      <td>12.000000</td>\n",
       "      <td>2017.000000</td>\n",
       "      <td>31.000000</td>\n",
       "      <td>12.000000</td>\n",
       "      <td>2017.000000</td>\n",
       "      <td>999990.000000</td>\n",
       "      <td>155.000000</td>\n",
       "      <td>414007.000000</td>\n",
       "      <td>2017.000000</td>\n",
       "      <td>1.350000e+06</td>\n",
       "      <td>3.000000e+06</td>\n",
       "    </tr>\n",
       "  </tbody>\n",
       "</table>\n",
       "</div>"
      ],
      "text/plain": [
       "       CASE_SUBMITTED_DAY  CASE_SUBMITTED_MONTH  CASE_SUBMITTED_YEAR  \\\n",
       "count       528134.000000         528134.000000        528134.000000   \n",
       "mean            15.246426              4.444859          2016.752854   \n",
       "std              8.154979              3.201000             0.524568   \n",
       "min              1.000000              1.000000          2011.000000   \n",
       "25%              8.000000              3.000000          2017.000000   \n",
       "50%             15.000000              3.000000          2017.000000   \n",
       "75%             22.000000              5.000000          2017.000000   \n",
       "max             31.000000             12.000000          2017.000000   \n",
       "\n",
       "        DECISION_DAY  DECISION_MONTH  DECISION_YEAR     NAICS_CODE  \\\n",
       "count  528134.000000   528134.000000  528134.000000  528132.000000   \n",
       "mean       16.565991        4.552377    2016.825876  443548.680673   \n",
       "std         8.457420        3.201752       0.379217  197875.907540   \n",
       "min         1.000000        1.000000    2016.000000      31.000000   \n",
       "25%         9.000000        3.000000    2017.000000  452910.000000   \n",
       "50%        17.000000        3.000000    2017.000000  541511.000000   \n",
       "75%        23.000000        5.000000    2017.000000  541511.000000   \n",
       "max        31.000000       12.000000    2017.000000  999990.000000   \n",
       "\n",
       "       TOTAL_WORKERS  PREVAILING_WAGE  PW_SOURCE_YEAR  WAGE_RATE_OF_PAY_FROM  \\\n",
       "count  528134.000000    528134.000000   528103.000000           5.281340e+05   \n",
       "mean        1.907171     71674.254471     2016.057258           8.161845e+04   \n",
       "std         4.925016     31996.910281        5.562969           4.246852e+04   \n",
       "min         0.000000         0.000000        0.000000           0.000000e+00   \n",
       "25%         1.000000     55910.000000     2016.000000           6.200000e+04   \n",
       "50%         1.000000     68827.000000     2016.000000           7.500000e+04   \n",
       "75%         1.000000     87214.000000     2016.000000           9.776000e+04   \n",
       "max       155.000000    414007.000000     2017.000000           1.350000e+06   \n",
       "\n",
       "       WAGE_RATE_OF_PAY_TO  \n",
       "count         5.281340e+05  \n",
       "mean          2.408603e+04  \n",
       "std           5.239735e+04  \n",
       "min           0.000000e+00  \n",
       "25%           0.000000e+00  \n",
       "50%           0.000000e+00  \n",
       "75%           0.000000e+00  \n",
       "max           3.000000e+06  "
      ]
     },
     "execution_count": 6,
     "metadata": {},
     "output_type": "execute_result"
    }
   ],
   "source": [
    "dataset.describe()"
   ]
  },
  {
   "cell_type": "code",
   "execution_count": 7,
   "metadata": {},
   "outputs": [
    {
     "data": {
      "text/plain": [
       "array(['CERTIFIEDWITHDRAWN', 'WITHDRAWN', 'CERTIFIED', 'DENIED'],\n",
       "      dtype=object)"
      ]
     },
     "execution_count": 7,
     "metadata": {},
     "output_type": "execute_result"
    }
   ],
   "source": [
    "dataset['CASE_STATUS'].unique()"
   ]
  },
  {
   "cell_type": "code",
   "execution_count": 8,
   "metadata": {},
   "outputs": [],
   "source": [
    "import warnings\n",
    "warnings.filterwarnings(\"ignore\")\n",
    "dataset.CASE_STATUS[dataset['CASE_STATUS']=='REJECTED'] = 'DENIED'\n",
    "dataset.CASE_STATUS[dataset['CASE_STATUS']=='INVALIDATED'] = 'DENIED'\n",
    "dataset.CASE_STATUS[dataset['CASE_STATUS']=='PENDING QUALITY AND COMPLIANCE REVIEW - UNASSIGNED'] = 'DENIED'\n",
    "dataset.CASE_STATUS[dataset['CASE_STATUS']=='CERTIFIED-WITHDRAWN'] = 'CERTIFIED'"
   ]
  },
  {
   "cell_type": "code",
   "execution_count": 9,
   "metadata": {},
   "outputs": [],
   "source": [
    "dataset['CASE_STATUS1'] = dataset['CASE_STATUS'].apply(lambda x: 1 if x=='CERTIFIED' else 0)"
   ]
  },
  {
   "cell_type": "code",
   "execution_count": 10,
   "metadata": {},
   "outputs": [
    {
     "data": {
      "text/html": [
       "<div>\n",
       "<style scoped>\n",
       "    .dataframe tbody tr th:only-of-type {\n",
       "        vertical-align: middle;\n",
       "    }\n",
       "\n",
       "    .dataframe tbody tr th {\n",
       "        vertical-align: top;\n",
       "    }\n",
       "\n",
       "    .dataframe thead th {\n",
       "        text-align: right;\n",
       "    }\n",
       "</style>\n",
       "<table border=\"1\" class=\"dataframe\">\n",
       "  <thead>\n",
       "    <tr style=\"text-align: right;\">\n",
       "      <th></th>\n",
       "      <th>CASE_SUBMITTED_DAY</th>\n",
       "      <th>CASE_SUBMITTED_MONTH</th>\n",
       "      <th>CASE_SUBMITTED_YEAR</th>\n",
       "      <th>DECISION_DAY</th>\n",
       "      <th>DECISION_MONTH</th>\n",
       "      <th>DECISION_YEAR</th>\n",
       "      <th>VISA_CLASS</th>\n",
       "      <th>EMPLOYER_NAME</th>\n",
       "      <th>EMPLOYER_STATE</th>\n",
       "      <th>EMPLOYER_COUNTRY</th>\n",
       "      <th>...</th>\n",
       "      <th>PW_SOURCE_OTHER</th>\n",
       "      <th>WAGE_RATE_OF_PAY_FROM</th>\n",
       "      <th>WAGE_RATE_OF_PAY_TO</th>\n",
       "      <th>WAGE_UNIT_OF_PAY</th>\n",
       "      <th>H-1B_DEPENDENT</th>\n",
       "      <th>WILLFUL_VIOLATOR</th>\n",
       "      <th>WORKSITE_STATE</th>\n",
       "      <th>WORKSITE_POSTAL_CODE</th>\n",
       "      <th>CASE_STATUS</th>\n",
       "      <th>CASE_STATUS1</th>\n",
       "    </tr>\n",
       "  </thead>\n",
       "  <tbody>\n",
       "    <tr>\n",
       "      <th>0</th>\n",
       "      <td>24</td>\n",
       "      <td>2</td>\n",
       "      <td>2016</td>\n",
       "      <td>1</td>\n",
       "      <td>10</td>\n",
       "      <td>2016</td>\n",
       "      <td>H1B</td>\n",
       "      <td>DISCOVER PRODUCTS INC</td>\n",
       "      <td>IL</td>\n",
       "      <td>UNITED STATES OF AMERICA</td>\n",
       "      <td>...</td>\n",
       "      <td>OFLC ONLINE DATA CENTER</td>\n",
       "      <td>65811.0</td>\n",
       "      <td>67320.0</td>\n",
       "      <td>Year</td>\n",
       "      <td>N</td>\n",
       "      <td>N</td>\n",
       "      <td>IL</td>\n",
       "      <td>60015</td>\n",
       "      <td>CERTIFIEDWITHDRAWN</td>\n",
       "      <td>0</td>\n",
       "    </tr>\n",
       "    <tr>\n",
       "      <th>1</th>\n",
       "      <td>4</td>\n",
       "      <td>3</td>\n",
       "      <td>2016</td>\n",
       "      <td>1</td>\n",
       "      <td>10</td>\n",
       "      <td>2016</td>\n",
       "      <td>H1B</td>\n",
       "      <td>DFS SERVICES LLC</td>\n",
       "      <td>IL</td>\n",
       "      <td>UNITED STATES OF AMERICA</td>\n",
       "      <td>...</td>\n",
       "      <td>WILLIS TOWERS WATSON SURVEY</td>\n",
       "      <td>53000.0</td>\n",
       "      <td>57200.0</td>\n",
       "      <td>Year</td>\n",
       "      <td>N</td>\n",
       "      <td>N</td>\n",
       "      <td>IL</td>\n",
       "      <td>60015</td>\n",
       "      <td>CERTIFIEDWITHDRAWN</td>\n",
       "      <td>0</td>\n",
       "    </tr>\n",
       "    <tr>\n",
       "      <th>2</th>\n",
       "      <td>10</td>\n",
       "      <td>3</td>\n",
       "      <td>2016</td>\n",
       "      <td>1</td>\n",
       "      <td>10</td>\n",
       "      <td>2016</td>\n",
       "      <td>H1B</td>\n",
       "      <td>EASTBANC TECHNOLOGIES LLC</td>\n",
       "      <td>DC</td>\n",
       "      <td>UNITED STATES OF AMERICA</td>\n",
       "      <td>...</td>\n",
       "      <td>OFLC ONLINE DATA CENTER</td>\n",
       "      <td>77000.0</td>\n",
       "      <td>0.0</td>\n",
       "      <td>Year</td>\n",
       "      <td>Y</td>\n",
       "      <td>N</td>\n",
       "      <td>DC</td>\n",
       "      <td>20007</td>\n",
       "      <td>CERTIFIEDWITHDRAWN</td>\n",
       "      <td>0</td>\n",
       "    </tr>\n",
       "    <tr>\n",
       "      <th>3</th>\n",
       "      <td>28</td>\n",
       "      <td>9</td>\n",
       "      <td>2016</td>\n",
       "      <td>1</td>\n",
       "      <td>10</td>\n",
       "      <td>2016</td>\n",
       "      <td>H1B</td>\n",
       "      <td>INFO SERVICES LLC</td>\n",
       "      <td>MI</td>\n",
       "      <td>UNITED STATES OF AMERICA</td>\n",
       "      <td>...</td>\n",
       "      <td>OFLC ONLINE DATA CENTER</td>\n",
       "      <td>102000.0</td>\n",
       "      <td>0.0</td>\n",
       "      <td>Year</td>\n",
       "      <td>Y</td>\n",
       "      <td>N</td>\n",
       "      <td>NJ</td>\n",
       "      <td>7302</td>\n",
       "      <td>WITHDRAWN</td>\n",
       "      <td>0</td>\n",
       "    </tr>\n",
       "    <tr>\n",
       "      <th>4</th>\n",
       "      <td>22</td>\n",
       "      <td>2</td>\n",
       "      <td>2015</td>\n",
       "      <td>2</td>\n",
       "      <td>10</td>\n",
       "      <td>2016</td>\n",
       "      <td>H1B</td>\n",
       "      <td>BBandT CORPORATION</td>\n",
       "      <td>NC</td>\n",
       "      <td>UNITED STATES OF AMERICA</td>\n",
       "      <td>...</td>\n",
       "      <td>OFLC ONLINE DATA CENTER</td>\n",
       "      <td>132500.0</td>\n",
       "      <td>0.0</td>\n",
       "      <td>Year</td>\n",
       "      <td>N</td>\n",
       "      <td>N</td>\n",
       "      <td>NY</td>\n",
       "      <td>10036</td>\n",
       "      <td>CERTIFIEDWITHDRAWN</td>\n",
       "      <td>0</td>\n",
       "    </tr>\n",
       "    <tr>\n",
       "      <th>...</th>\n",
       "      <td>...</td>\n",
       "      <td>...</td>\n",
       "      <td>...</td>\n",
       "      <td>...</td>\n",
       "      <td>...</td>\n",
       "      <td>...</td>\n",
       "      <td>...</td>\n",
       "      <td>...</td>\n",
       "      <td>...</td>\n",
       "      <td>...</td>\n",
       "      <td>...</td>\n",
       "      <td>...</td>\n",
       "      <td>...</td>\n",
       "      <td>...</td>\n",
       "      <td>...</td>\n",
       "      <td>...</td>\n",
       "      <td>...</td>\n",
       "      <td>...</td>\n",
       "      <td>...</td>\n",
       "      <td>...</td>\n",
       "      <td>...</td>\n",
       "    </tr>\n",
       "    <tr>\n",
       "      <th>528129</th>\n",
       "      <td>30</td>\n",
       "      <td>6</td>\n",
       "      <td>2017</td>\n",
       "      <td>30</td>\n",
       "      <td>6</td>\n",
       "      <td>2017</td>\n",
       "      <td>H1B</td>\n",
       "      <td>SAN JOSE UNIFIED SCHOOL DISTRICT</td>\n",
       "      <td>CA</td>\n",
       "      <td>UNITED STATES OF AMERICA</td>\n",
       "      <td>...</td>\n",
       "      <td>NONE</td>\n",
       "      <td>54958.0</td>\n",
       "      <td>92555.0</td>\n",
       "      <td>Year</td>\n",
       "      <td>N</td>\n",
       "      <td>N</td>\n",
       "      <td>CA</td>\n",
       "      <td>95126</td>\n",
       "      <td>WITHDRAWN</td>\n",
       "      <td>0</td>\n",
       "    </tr>\n",
       "    <tr>\n",
       "      <th>528130</th>\n",
       "      <td>30</td>\n",
       "      <td>6</td>\n",
       "      <td>2017</td>\n",
       "      <td>30</td>\n",
       "      <td>6</td>\n",
       "      <td>2017</td>\n",
       "      <td>H1B</td>\n",
       "      <td>SOFTPATH SYSTEM LLC</td>\n",
       "      <td>GA</td>\n",
       "      <td>UNITED STATES OF AMERICA</td>\n",
       "      <td>...</td>\n",
       "      <td>OFLC ONLINE DATA CENTER</td>\n",
       "      <td>90813.0</td>\n",
       "      <td>0.0</td>\n",
       "      <td>Year</td>\n",
       "      <td>Y</td>\n",
       "      <td>N</td>\n",
       "      <td>NY</td>\n",
       "      <td>10281</td>\n",
       "      <td>WITHDRAWN</td>\n",
       "      <td>0</td>\n",
       "    </tr>\n",
       "    <tr>\n",
       "      <th>528131</th>\n",
       "      <td>30</td>\n",
       "      <td>6</td>\n",
       "      <td>2017</td>\n",
       "      <td>30</td>\n",
       "      <td>6</td>\n",
       "      <td>2017</td>\n",
       "      <td>H1B</td>\n",
       "      <td>TECH MAHINDRA AMERICAS INC</td>\n",
       "      <td>TX</td>\n",
       "      <td>UNITED STATES OF AMERICA</td>\n",
       "      <td>...</td>\n",
       "      <td>OFLC ONLINE DATA CENTER</td>\n",
       "      <td>81515.0</td>\n",
       "      <td>0.0</td>\n",
       "      <td>Year</td>\n",
       "      <td>Y</td>\n",
       "      <td>N</td>\n",
       "      <td>TX</td>\n",
       "      <td>75082</td>\n",
       "      <td>WITHDRAWN</td>\n",
       "      <td>0</td>\n",
       "    </tr>\n",
       "    <tr>\n",
       "      <th>528132</th>\n",
       "      <td>30</td>\n",
       "      <td>6</td>\n",
       "      <td>2017</td>\n",
       "      <td>30</td>\n",
       "      <td>6</td>\n",
       "      <td>2017</td>\n",
       "      <td>H1B</td>\n",
       "      <td>UNIVERSITY PHYSICIAN ASSOCIATES</td>\n",
       "      <td>MO</td>\n",
       "      <td>UNITED STATES OF AMERICA</td>\n",
       "      <td>...</td>\n",
       "      <td>OFLC ONLINE DATA CENTER</td>\n",
       "      <td>121750.0</td>\n",
       "      <td>155000.0</td>\n",
       "      <td>Year</td>\n",
       "      <td>N</td>\n",
       "      <td>N</td>\n",
       "      <td>MO</td>\n",
       "      <td>64139</td>\n",
       "      <td>WITHDRAWN</td>\n",
       "      <td>0</td>\n",
       "    </tr>\n",
       "    <tr>\n",
       "      <th>528133</th>\n",
       "      <td>30</td>\n",
       "      <td>6</td>\n",
       "      <td>2017</td>\n",
       "      <td>30</td>\n",
       "      <td>6</td>\n",
       "      <td>2017</td>\n",
       "      <td>E3 Australian</td>\n",
       "      <td>WEBER STATE UNIVERSITY</td>\n",
       "      <td>UT</td>\n",
       "      <td>UNITED STATES OF AMERICA</td>\n",
       "      <td>...</td>\n",
       "      <td>OFLC ONLINE DATA CENTER</td>\n",
       "      <td>58000.0</td>\n",
       "      <td>0.0</td>\n",
       "      <td>Year</td>\n",
       "      <td>NaN</td>\n",
       "      <td>NaN</td>\n",
       "      <td>UT</td>\n",
       "      <td>84408</td>\n",
       "      <td>WITHDRAWN</td>\n",
       "      <td>0</td>\n",
       "    </tr>\n",
       "  </tbody>\n",
       "</table>\n",
       "<p>528134 rows × 28 columns</p>\n",
       "</div>"
      ],
      "text/plain": [
       "        CASE_SUBMITTED_DAY  CASE_SUBMITTED_MONTH  CASE_SUBMITTED_YEAR  \\\n",
       "0                       24                     2                 2016   \n",
       "1                        4                     3                 2016   \n",
       "2                       10                     3                 2016   \n",
       "3                       28                     9                 2016   \n",
       "4                       22                     2                 2015   \n",
       "...                    ...                   ...                  ...   \n",
       "528129                  30                     6                 2017   \n",
       "528130                  30                     6                 2017   \n",
       "528131                  30                     6                 2017   \n",
       "528132                  30                     6                 2017   \n",
       "528133                  30                     6                 2017   \n",
       "\n",
       "        DECISION_DAY  DECISION_MONTH  DECISION_YEAR     VISA_CLASS  \\\n",
       "0                  1              10           2016            H1B   \n",
       "1                  1              10           2016            H1B   \n",
       "2                  1              10           2016            H1B   \n",
       "3                  1              10           2016            H1B   \n",
       "4                  2              10           2016            H1B   \n",
       "...              ...             ...            ...            ...   \n",
       "528129            30               6           2017            H1B   \n",
       "528130            30               6           2017            H1B   \n",
       "528131            30               6           2017            H1B   \n",
       "528132            30               6           2017            H1B   \n",
       "528133            30               6           2017  E3 Australian   \n",
       "\n",
       "                           EMPLOYER_NAME EMPLOYER_STATE  \\\n",
       "0                  DISCOVER PRODUCTS INC             IL   \n",
       "1                       DFS SERVICES LLC             IL   \n",
       "2              EASTBANC TECHNOLOGIES LLC             DC   \n",
       "3                      INFO SERVICES LLC             MI   \n",
       "4                     BBandT CORPORATION             NC   \n",
       "...                                  ...            ...   \n",
       "528129  SAN JOSE UNIFIED SCHOOL DISTRICT             CA   \n",
       "528130               SOFTPATH SYSTEM LLC             GA   \n",
       "528131        TECH MAHINDRA AMERICAS INC             TX   \n",
       "528132   UNIVERSITY PHYSICIAN ASSOCIATES             MO   \n",
       "528133            WEBER STATE UNIVERSITY             UT   \n",
       "\n",
       "                EMPLOYER_COUNTRY  ...              PW_SOURCE_OTHER  \\\n",
       "0       UNITED STATES OF AMERICA  ...      OFLC ONLINE DATA CENTER   \n",
       "1       UNITED STATES OF AMERICA  ...  WILLIS TOWERS WATSON SURVEY   \n",
       "2       UNITED STATES OF AMERICA  ...      OFLC ONLINE DATA CENTER   \n",
       "3       UNITED STATES OF AMERICA  ...      OFLC ONLINE DATA CENTER   \n",
       "4       UNITED STATES OF AMERICA  ...      OFLC ONLINE DATA CENTER   \n",
       "...                          ...  ...                          ...   \n",
       "528129  UNITED STATES OF AMERICA  ...                         NONE   \n",
       "528130  UNITED STATES OF AMERICA  ...      OFLC ONLINE DATA CENTER   \n",
       "528131  UNITED STATES OF AMERICA  ...      OFLC ONLINE DATA CENTER   \n",
       "528132  UNITED STATES OF AMERICA  ...      OFLC ONLINE DATA CENTER   \n",
       "528133  UNITED STATES OF AMERICA  ...      OFLC ONLINE DATA CENTER   \n",
       "\n",
       "        WAGE_RATE_OF_PAY_FROM  WAGE_RATE_OF_PAY_TO WAGE_UNIT_OF_PAY  \\\n",
       "0                     65811.0              67320.0             Year   \n",
       "1                     53000.0              57200.0             Year   \n",
       "2                     77000.0                  0.0             Year   \n",
       "3                    102000.0                  0.0             Year   \n",
       "4                    132500.0                  0.0             Year   \n",
       "...                       ...                  ...              ...   \n",
       "528129                54958.0              92555.0             Year   \n",
       "528130                90813.0                  0.0             Year   \n",
       "528131                81515.0                  0.0             Year   \n",
       "528132               121750.0             155000.0             Year   \n",
       "528133                58000.0                  0.0             Year   \n",
       "\n",
       "        H-1B_DEPENDENT WILLFUL_VIOLATOR WORKSITE_STATE  WORKSITE_POSTAL_CODE  \\\n",
       "0                    N                N             IL                 60015   \n",
       "1                    N                N             IL                 60015   \n",
       "2                    Y                N             DC                 20007   \n",
       "3                    Y                N             NJ                  7302   \n",
       "4                    N                N             NY                 10036   \n",
       "...                ...              ...            ...                   ...   \n",
       "528129               N                N             CA                 95126   \n",
       "528130               Y                N             NY                 10281   \n",
       "528131               Y                N             TX                 75082   \n",
       "528132               N                N             MO                 64139   \n",
       "528133             NaN              NaN             UT                 84408   \n",
       "\n",
       "               CASE_STATUS  CASE_STATUS1  \n",
       "0       CERTIFIEDWITHDRAWN             0  \n",
       "1       CERTIFIEDWITHDRAWN             0  \n",
       "2       CERTIFIEDWITHDRAWN             0  \n",
       "3                WITHDRAWN             0  \n",
       "4       CERTIFIEDWITHDRAWN             0  \n",
       "...                    ...           ...  \n",
       "528129           WITHDRAWN             0  \n",
       "528130           WITHDRAWN             0  \n",
       "528131           WITHDRAWN             0  \n",
       "528132           WITHDRAWN             0  \n",
       "528133           WITHDRAWN             0  \n",
       "\n",
       "[528134 rows x 28 columns]"
      ]
     },
     "execution_count": 10,
     "metadata": {},
     "output_type": "execute_result"
    }
   ],
   "source": [
    "dataset"
   ]
  },
  {
   "cell_type": "markdown",
   "metadata": {},
   "source": [
    "# Droping the Columns"
   ]
  },
  {
   "cell_type": "code",
   "execution_count": 11,
   "metadata": {},
   "outputs": [],
   "source": [
    "dataset.drop('PW_UNIT_OF_PAY',axis=1,inplace=True)"
   ]
  },
  {
   "cell_type": "code",
   "execution_count": 12,
   "metadata": {},
   "outputs": [],
   "source": [
    "dataset.drop('WORKSITE_POSTAL_CODE',axis=1,inplace=True)"
   ]
  },
  {
   "cell_type": "code",
   "execution_count": 13,
   "metadata": {},
   "outputs": [],
   "source": [
    "dataset.drop('NAICS_CODE',axis=1,inplace=True)"
   ]
  },
  {
   "cell_type": "code",
   "execution_count": 14,
   "metadata": {},
   "outputs": [],
   "source": [
    "dataset.drop('TOTAL_WORKERS',axis=1,inplace=True)"
   ]
  },
  {
   "cell_type": "code",
   "execution_count": 15,
   "metadata": {},
   "outputs": [],
   "source": [
    "dataset.drop('WAGE_UNIT_OF_PAY',axis=1,inplace=True)"
   ]
  },
  {
   "cell_type": "code",
   "execution_count": 16,
   "metadata": {},
   "outputs": [],
   "source": [
    "dataset.drop('WAGE_RATE_OF_PAY_FROM',axis=1,inplace=True)"
   ]
  },
  {
   "cell_type": "code",
   "execution_count": 17,
   "metadata": {},
   "outputs": [],
   "source": [
    "dataset.drop('WAGE_RATE_OF_PAY_TO',axis=1,inplace=True)"
   ]
  },
  {
   "cell_type": "code",
   "execution_count": 18,
   "metadata": {},
   "outputs": [],
   "source": [
    "dataset.drop('H-1B_DEPENDENT',axis=1,inplace=True)"
   ]
  },
  {
   "cell_type": "code",
   "execution_count": 19,
   "metadata": {},
   "outputs": [],
   "source": [
    "dataset.drop('PW_SOURCE',axis=1,inplace=True)"
   ]
  },
  {
   "cell_type": "code",
   "execution_count": 20,
   "metadata": {},
   "outputs": [],
   "source": [
    "dataset.drop('WILLFUL_VIOLATOR',axis=1,inplace=True)"
   ]
  },
  {
   "cell_type": "code",
   "execution_count": 21,
   "metadata": {},
   "outputs": [],
   "source": [
    "dataset.drop('VISA_CLASS',axis=1,inplace=True)"
   ]
  },
  {
   "cell_type": "code",
   "execution_count": 22,
   "metadata": {},
   "outputs": [],
   "source": [
    "dataset.drop('EMPLOYER_STATE',axis=1,inplace=True)"
   ]
  },
  {
   "cell_type": "code",
   "execution_count": 23,
   "metadata": {},
   "outputs": [],
   "source": [
    "dataset.drop('EMPLOYER_COUNTRY',axis=1,inplace=True)"
   ]
  },
  {
   "cell_type": "code",
   "execution_count": 24,
   "metadata": {},
   "outputs": [],
   "source": [
    "dataset.drop('EMPLOYER_NAME',axis=1,inplace=True)"
   ]
  },
  {
   "cell_type": "code",
   "execution_count": 25,
   "metadata": {},
   "outputs": [],
   "source": [
    "dataset.drop('SOC_NAME',axis=1,inplace=True)"
   ]
  },
  {
   "cell_type": "code",
   "execution_count": 26,
   "metadata": {},
   "outputs": [],
   "source": [
    "dataset.drop('PW_SOURCE_OTHER',axis=1,inplace=True)"
   ]
  },
  {
   "cell_type": "code",
   "execution_count": 27,
   "metadata": {},
   "outputs": [],
   "source": [
    "dataset.drop('WORKSITE_STATE',axis=1,inplace=True)"
   ]
  },
  {
   "cell_type": "code",
   "execution_count": 28,
   "metadata": {},
   "outputs": [],
   "source": [
    "dataset.drop('CASE_STATUS',axis=1,inplace=True)"
   ]
  },
  {
   "cell_type": "code",
   "execution_count": 29,
   "metadata": {},
   "outputs": [
    {
     "data": {
      "text/plain": [
       "CASE_SUBMITTED_DAY      False\n",
       "CASE_SUBMITTED_MONTH    False\n",
       "CASE_SUBMITTED_YEAR     False\n",
       "DECISION_DAY            False\n",
       "DECISION_MONTH          False\n",
       "DECISION_YEAR           False\n",
       "FULL_TIME_POSITION       True\n",
       "PREVAILING_WAGE         False\n",
       "PW_SOURCE_YEAR           True\n",
       "CASE_STATUS1            False\n",
       "dtype: bool"
      ]
     },
     "execution_count": 29,
     "metadata": {},
     "output_type": "execute_result"
    }
   ],
   "source": [
    "dataset.isnull().any()"
   ]
  },
  {
   "cell_type": "code",
   "execution_count": null,
   "metadata": {},
   "outputs": [],
   "source": []
  },
  {
   "cell_type": "markdown",
   "metadata": {},
   "source": [
    "# Filling the Data"
   ]
  },
  {
   "cell_type": "code",
   "execution_count": 30,
   "metadata": {},
   "outputs": [],
   "source": [
    "dataset['FULL_TIME_POSITION'].fillna(dataset['FULL_TIME_POSITION'].mode()[0],inplace=True)\n",
    "dataset['PW_SOURCE_YEAR'].fillna(dataset['PW_SOURCE_YEAR'].mode()[0],inplace=True)"
   ]
  },
  {
   "cell_type": "code",
   "execution_count": 31,
   "metadata": {},
   "outputs": [
    {
     "data": {
      "text/plain": [
       "CASE_SUBMITTED_DAY      False\n",
       "CASE_SUBMITTED_MONTH    False\n",
       "CASE_SUBMITTED_YEAR     False\n",
       "DECISION_DAY            False\n",
       "DECISION_MONTH          False\n",
       "DECISION_YEAR           False\n",
       "FULL_TIME_POSITION      False\n",
       "PREVAILING_WAGE         False\n",
       "PW_SOURCE_YEAR          False\n",
       "CASE_STATUS1            False\n",
       "dtype: bool"
      ]
     },
     "execution_count": 31,
     "metadata": {},
     "output_type": "execute_result"
    }
   ],
   "source": [
    "dataset.isnull().any()"
   ]
  },
  {
   "cell_type": "markdown",
   "metadata": {},
   "source": [
    "# Label Encoding"
   ]
  },
  {
   "cell_type": "code",
   "execution_count": 32,
   "metadata": {},
   "outputs": [],
   "source": [
    "from sklearn.preprocessing import LabelEncoder\n",
    "le = LabelEncoder()\n",
    "dataset['FULL_TIME_POSITION']= le.fit_transform(dataset['FULL_TIME_POSITION'])"
   ]
  },
  {
   "cell_type": "code",
   "execution_count": 33,
   "metadata": {},
   "outputs": [
    {
     "data": {
      "text/plain": [
       "array([1, 0])"
      ]
     },
     "execution_count": 33,
     "metadata": {},
     "output_type": "execute_result"
    }
   ],
   "source": [
    "dataset['FULL_TIME_POSITION'].unique()"
   ]
  },
  {
   "cell_type": "code",
   "execution_count": 34,
   "metadata": {},
   "outputs": [
    {
     "data": {
      "text/plain": [
       "array([0, 1], dtype=int64)"
      ]
     },
     "execution_count": 34,
     "metadata": {},
     "output_type": "execute_result"
    }
   ],
   "source": [
    "dataset['CASE_STATUS1'].unique()"
   ]
  },
  {
   "cell_type": "markdown",
   "metadata": {},
   "source": [
    "# Separating the Variables"
   ]
  },
  {
   "cell_type": "code",
   "execution_count": 35,
   "metadata": {},
   "outputs": [],
   "source": [
    "x=dataset.iloc[:,0:9].values\n",
    "y=dataset.iloc[:,9:10].values"
   ]
  },
  {
   "cell_type": "code",
   "execution_count": 36,
   "metadata": {},
   "outputs": [
    {
     "data": {
      "text/plain": [
       "(528134, 9)"
      ]
     },
     "execution_count": 36,
     "metadata": {},
     "output_type": "execute_result"
    }
   ],
   "source": [
    "x.shape"
   ]
  },
  {
   "cell_type": "code",
   "execution_count": 37,
   "metadata": {},
   "outputs": [
    {
     "data": {
      "text/plain": [
       "(528134, 1)"
      ]
     },
     "execution_count": 37,
     "metadata": {},
     "output_type": "execute_result"
    }
   ],
   "source": [
    "y.shape"
   ]
  },
  {
   "cell_type": "code",
   "execution_count": 38,
   "metadata": {},
   "outputs": [
    {
     "data": {
      "text/plain": [
       "array([[2.40000e+01, 2.00000e+00, 2.01600e+03, ..., 1.00000e+00,\n",
       "        5.91970e+04, 2.01500e+03],\n",
       "       [4.00000e+00, 3.00000e+00, 2.01600e+03, ..., 1.00000e+00,\n",
       "        4.98000e+04, 2.01500e+03],\n",
       "       [1.00000e+01, 3.00000e+00, 2.01600e+03, ..., 1.00000e+00,\n",
       "        7.65020e+04, 2.01500e+03],\n",
       "       ...,\n",
       "       [3.00000e+01, 6.00000e+00, 2.01700e+03, ..., 1.00000e+00,\n",
       "        7.94980e+04, 2.01600e+03],\n",
       "       [3.00000e+01, 6.00000e+00, 2.01700e+03, ..., 1.00000e+00,\n",
       "        1.18352e+05, 2.01600e+03],\n",
       "       [3.00000e+01, 6.00000e+00, 2.01700e+03, ..., 1.00000e+00,\n",
       "        4.91300e+04, 2.01600e+03]])"
      ]
     },
     "execution_count": 38,
     "metadata": {},
     "output_type": "execute_result"
    }
   ],
   "source": [
    "x"
   ]
  },
  {
   "cell_type": "code",
   "execution_count": 39,
   "metadata": {},
   "outputs": [
    {
     "data": {
      "text/plain": [
       "array([[0],\n",
       "       [0],\n",
       "       [0],\n",
       "       ...,\n",
       "       [0],\n",
       "       [0],\n",
       "       [0]], dtype=int64)"
      ]
     },
     "execution_count": 39,
     "metadata": {},
     "output_type": "execute_result"
    }
   ],
   "source": [
    "y"
   ]
  },
  {
   "cell_type": "markdown",
   "metadata": {},
   "source": [
    "# Data Vizualizing"
   ]
  },
  {
   "cell_type": "code",
   "execution_count": 40,
   "metadata": {},
   "outputs": [],
   "source": [
    "import matplotlib.pyplot as plt\n",
    "%matplotlib inline"
   ]
  },
  {
   "cell_type": "code",
   "execution_count": 41,
   "metadata": {},
   "outputs": [
    {
     "data": {
      "text/plain": [
       "[<matplotlib.lines.Line2D at 0xb51d808>]"
      ]
     },
     "execution_count": 41,
     "metadata": {},
     "output_type": "execute_result"
    },
    {
     "data": {
      "image/png": "[encoded data removed]",
      "text/plain": [
       "<Figure size 432x288 with 1 Axes>"
      ]
     },
     "metadata": {
      "needs_background": "light"
     },
     "output_type": "display_data"
    }
   ],
   "source": [
    "plt.plot(dataset['CASE_STATUS1'],dataset['FULL_TIME_POSITION'],'g')"
   ]
  },
  {
   "cell_type": "code",
   "execution_count": 42,
   "metadata": {},
   "outputs": [
    {
     "data": {
      "text/plain": [
       "(528134, 9)"
      ]
     },
     "execution_count": 42,
     "metadata": {},
     "output_type": "execute_result"
    }
   ],
   "source": [
    "x.shape"
   ]
  },
  {
   "cell_type": "code",
   "execution_count": 43,
   "metadata": {},
   "outputs": [
    {
     "data": {
      "text/plain": [
       "(528134, 1)"
      ]
     },
     "execution_count": 43,
     "metadata": {},
     "output_type": "execute_result"
    }
   ],
   "source": [
    "y.shape"
   ]
  },
  {
   "cell_type": "markdown",
   "metadata": {},
   "source": [
    "# Training and testing"
   ]
  },
  {
   "cell_type": "code",
   "execution_count": 44,
   "metadata": {},
   "outputs": [],
   "source": [
    "from sklearn.model_selection import train_test_split\n",
    "x_train,x_test,y_train,y_test=train_test_split(x,y,test_size=0.2,random_state=0)"
   ]
  },
  {
   "cell_type": "code",
   "execution_count": 45,
   "metadata": {},
   "outputs": [
    {
     "data": {
      "text/plain": [
       "(422507, 9)"
      ]
     },
     "execution_count": 45,
     "metadata": {},
     "output_type": "execute_result"
    }
   ],
   "source": [
    "x_train.shape"
   ]
  },
  {
   "cell_type": "code",
   "execution_count": 46,
   "metadata": {},
   "outputs": [
    {
     "data": {
      "text/plain": [
       "(105627, 9)"
      ]
     },
     "execution_count": 46,
     "metadata": {},
     "output_type": "execute_result"
    }
   ],
   "source": [
    "x_test.shape"
   ]
  },
  {
   "cell_type": "code",
   "execution_count": 47,
   "metadata": {},
   "outputs": [
    {
     "data": {
      "text/plain": [
       "(422507, 1)"
      ]
     },
     "execution_count": 47,
     "metadata": {},
     "output_type": "execute_result"
    }
   ],
   "source": [
    "y_train.shape"
   ]
  },
  {
   "cell_type": "code",
   "execution_count": 48,
   "metadata": {},
   "outputs": [
    {
     "data": {
      "text/plain": [
       "(105627, 1)"
      ]
     },
     "execution_count": 48,
     "metadata": {},
     "output_type": "execute_result"
    }
   ],
   "source": [
    "y_test.shape"
   ]
  },
  {
   "cell_type": "code",
   "execution_count": 49,
   "metadata": {},
   "outputs": [],
   "source": [
    "from sklearn.preprocessing import StandardScaler\n",
    "sc=StandardScaler()\n",
    "x_train=sc.fit_transform(x_train)\n",
    "x_test=sc.fit_transform(x_test)"
   ]
  },
  {
   "cell_type": "code",
   "execution_count": 50,
   "metadata": {},
   "outputs": [
    {
     "data": {
      "text/plain": [
       "array([[ 0.33774548,  0.17368846,  0.47094157, ...,  0.15334608,\n",
       "        -0.22726029,  0.21278833],\n",
       "       [ 0.58293419, -0.13869274,  0.47094157, ...,  0.15334608,\n",
       "        -0.49766614, -0.01436499],\n",
       "       [ 1.80887774, -1.07583633,  0.47094157, ...,  0.15334608,\n",
       "         0.00673936, -0.01436499],\n",
       "       ...,\n",
       "       [ 0.46033984, -1.07583633,  0.47094157, ...,  0.15334608,\n",
       "         0.36358258, -0.01436499],\n",
       "       [-0.64300936, -0.13869274,  0.47094157, ...,  0.15334608,\n",
       "         1.22405004,  0.21278833],\n",
       "       [-0.2752263 , -0.45107394,  0.47094157, ..., -6.52119714,\n",
       "        -2.23959949, -0.01436499]])"
      ]
     },
     "execution_count": 50,
     "metadata": {},
     "output_type": "execute_result"
    }
   ],
   "source": [
    "x_train"
   ]
  },
  {
   "cell_type": "markdown",
   "metadata": {},
   "source": [
    "# Training and Testing the model"
   ]
  },
  {
   "cell_type": "code",
   "execution_count": 51,
   "metadata": {},
   "outputs": [],
   "source": [
    "from sklearn.naive_bayes import GaussianNB\n",
    "naive = GaussianNB()"
   ]
  },
  {
   "cell_type": "code",
   "execution_count": 52,
   "metadata": {},
   "outputs": [
    {
     "data": {
      "text/plain": [
       "GaussianNB(priors=None, var_smoothing=1e-09)"
      ]
     },
     "execution_count": 52,
     "metadata": {},
     "output_type": "execute_result"
    }
   ],
   "source": [
    "naive.fit(x_train,y_train)"
   ]
  },
  {
   "cell_type": "code",
   "execution_count": 53,
   "metadata": {},
   "outputs": [
    {
     "data": {
      "text/plain": [
       "['naive.save']"
      ]
     },
     "execution_count": 53,
     "metadata": {},
     "output_type": "execute_result"
    }
   ],
   "source": [
    "from joblib import dump\n",
    "dump(naive,'naive.save')"
   ]
  },
  {
   "cell_type": "code",
   "execution_count": 54,
   "metadata": {},
   "outputs": [],
   "source": [
    "y_pred=naive.predict(x_test)"
   ]
  },
  {
   "cell_type": "markdown",
   "metadata": {},
   "source": [
    "# Evaluation of the model"
   ]
  },
  {
   "cell_type": "code",
   "execution_count": 55,
   "metadata": {},
   "outputs": [],
   "source": [
    "from sklearn.metrics import accuracy_score\n",
    "acc=accuracy_score(y_test,y_pred)"
   ]
  },
  {
   "cell_type": "code",
   "execution_count": 56,
   "metadata": {},
   "outputs": [
    {
     "data": {
      "text/plain": [
       "0.9111401440919462"
      ]
     },
     "execution_count": 56,
     "metadata": {},
     "output_type": "execute_result"
    }
   ],
   "source": [
    "acc"
   ]
  },
  {
   "cell_type": "code",
   "execution_count": null,
   "metadata": {},
   "outputs": [],
   "source": []
  },
  {
   "cell_type": "code",
   "execution_count": null,
   "metadata": {},
   "outputs": [],
   "source": []
  }
 ],
 "metadata": {
  "kernelspec": {
   "display_name": "Python 3",
   "language": "python",
   "name": "python3"
  },
  "language_info": {
   "codemirror_mode": {
    "name": "ipython",
    "version": 3
   },
   "file_extension": ".py",
   "mimetype": "text/x-python",
   "name": "python",
   "nbconvert_exporter": "python",
   "pygments_lexer": "ipython3",
   "version": "3.7.6"
  }
 },
 "nbformat": 4,
 "nbformat_minor": 4
}
